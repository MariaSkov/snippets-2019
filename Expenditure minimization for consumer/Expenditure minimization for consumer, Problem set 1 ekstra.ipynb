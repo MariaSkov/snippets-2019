{
 "cells": [
  {
   "cell_type": "markdown",
   "metadata": {},
   "source": [
    "# Consumer expenditure minimization problem \n"
   ]
  },
  {
   "cell_type": "markdown",
   "metadata": {},
   "source": [
    "\\begin{eqnarray} E(p{1},p{2},u0) & = & \\min_{x{1},x{2}} p_1 x_1+p_2 x2\\ & \\text{s.t.}\\ x_{1}^{\\alpha}x_{2}^{1-\\alpha} & \\geq & u \\end{eqnarray}"
   ]
  },
  {
   "cell_type": "code",
   "execution_count": 1,
   "metadata": {},
   "outputs": [],
   "source": [
    "from consumer_min_module import consumer_min\n",
    "import numpy as np\n",
    "from scipy import optimize\n",
    "import matplotlib.pyplot as plt\n",
    "\n",
    "from ipywidgets import interact, interactive, fixed, interact_manual\n",
    "import ipywidgets as widgets"
   ]
  },
  {
   "cell_type": "markdown",
   "metadata": {},
   "source": [
    "# Interaktiv løsning "
   ]
  },
  {
   "cell_type": "code",
   "execution_count": 10,
   "metadata": {},
   "outputs": [
    {
     "data": {
      "application/vnd.jupyter.widget-view+json": {
       "model_id": "8b1f6e7b5aba48a89a5b947b305e46cf",
       "version_major": 2,
       "version_minor": 0
      },
      "text/plain": [
       "interactive(children=(IntSlider(value=10, description='u', max=20, min=1), FloatSlider(value=0.3, description=…"
      ]
     },
     "metadata": {},
     "output_type": "display_data"
    }
   ],
   "source": [
    "# Defines a function to solve and plot the problem:\n",
    "def solve_and_plot(u,alpha, p1 , x2_max):\n",
    "    \n",
    "    hans = consumer_min(alpha = alpha, p1 = p1, p2 = 1, x2_max=x2_max, u = u)\n",
    "    # solves the problem using module:\n",
    "    hans.solve()\n",
    "    # creates figure:\n",
    "    fig = plt.figure()\n",
    "    ax = fig.add_subplot(1,1,1)\n",
    "    \n",
    "    #plots the solution using module\n",
    "    hans.plot_budgetlines(ax)\n",
    "    hans.plot_indifference_curves(ax)\n",
    "    hans.plot_solution(ax)\n",
    "    hans.plot_details(ax)\n",
    "    \n",
    "    #prints detail\n",
    "    print(hans)\n",
    "\n",
    "# This function is then called in interact:\n",
    "# widget.FLoatSlider and .IntSlider defines starting values and intervals for floats and ints,\n",
    "#so it dosen't crash for for examlpe u=0\n",
    "interact(solve_and_plot, u=widgets.IntSlider(min=1,max=20,step=1,value=10), \\\n",
    "         alpha=widgets.FloatSlider(description = \"$\\\\alpha$\", min=0.05,max=0.99,step=0.05,value=0.3),\\\n",
    "         p1 =widgets.FloatSlider(description = \"$\\\\frac{p_1}{p_2}$\" ,min=0.1,max=10,step=0.1, value=2), \\\n",
    "         x2_max=widgets.IntSlider(description = \"Axis length\", min=5,max=40,step=5,value=25));\n",
    "\n"
   ]
  }
 ],
 "metadata": {
  "kernelspec": {
   "display_name": "Python 3",
   "language": "python",
   "name": "python3"
  },
  "language_info": {
   "codemirror_mode": {
    "name": "ipython",
    "version": 3
   },
   "file_extension": ".py",
   "mimetype": "text/x-python",
   "name": "python",
   "nbconvert_exporter": "python",
   "pygments_lexer": "ipython3",
   "version": "3.7.1"
  }
 },
 "nbformat": 4,
 "nbformat_minor": 2
}
